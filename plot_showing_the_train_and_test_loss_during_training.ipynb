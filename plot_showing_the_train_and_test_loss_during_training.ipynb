{
  "nbformat": 4,
  "nbformat_minor": 0,
  "metadata": {
    "colab": {
      "name": "plot showing the train and test loss during training.ipynb",
      "version": "0.3.2",
      "provenance": [],
      "include_colab_link": true
    },
    "kernelspec": {
      "name": "python3",
      "display_name": "Python 3"
    }
  },
  "cells": [
    {
      "cell_type": "markdown",
      "metadata": {
        "id": "view-in-github",
        "colab_type": "text"
      },
      "source": [
        "<a href=\"https://colab.research.google.com/github/ashishsalunkhe/Air-Quality-Forecasting--Outlier-Detection-in-Multivariate-Time-Series-Data/blob/master/plot_showing_the_train_and_test_loss_during_training.ipynb\" target=\"_parent\"><img src=\"https://colab.research.google.com/assets/colab-badge.svg\" alt=\"Open In Colab\"/></a>"
      ]
    },
    {
      "metadata": {
        "id": "sSVoxDMlVzqW",
        "colab_type": "code",
        "colab": {
          "base_uri": "https://localhost:8080/",
          "height": 35
        },
        "outputId": "9f09eef8-15b6-4757-c84a-7fbe2af64bbd"
      },
      "cell_type": "code",
      "source": [
        "from math import sqrt\n",
        "from numpy import concatenate\n",
        "from matplotlib import pyplot\n",
        "from pandas import read_csv\n",
        "from pandas import DataFrame\n",
        "from pandas import concat\n",
        "from sklearn.preprocessing import MinMaxScaler\n",
        "from sklearn.preprocessing import LabelEncoder\n",
        "from sklearn.metrics import mean_squared_error\n",
        "from keras.models import Sequential\n",
        "from keras.layers import Dense\n",
        "from keras.layers import LSTM\n",
        " \n",
        "# convert series to supervised learning\n",
        "def series_to_supervised(data, n_in=1, n_out=1, dropnan=True):\n",
        "\tn_vars = 1 if type(data) is list else data.shape[1]\n",
        "\tdf = DataFrame(data)\n",
        "\tcols, names = list(), list()\n",
        "\t# input sequence (t-n, ... t-1)\n",
        "\tfor i in range(n_in, 0, -1):\n",
        "\t\tcols.append(df.shift(i))\n",
        "\t\tnames += [('var%d(t-%d)' % (j+1, i)) for j in range(n_vars)]\n",
        "\t# forecast sequence (t, t+1, ... t+n)\n",
        "\tfor i in range(0, n_out):\n",
        "\t\tcols.append(df.shift(-i))\n",
        "\t\tif i == 0:\n",
        "\t\t\tnames += [('var%d(t)' % (j+1)) for j in range(n_vars)]\n",
        "\t\telse:\n",
        "\t\t\tnames += [('var%d(t+%d)' % (j+1, i)) for j in range(n_vars)]\n",
        "\t# put it all together\n",
        "\tagg = concat(cols, axis=1)\n",
        "\tagg.columns = names\n",
        "\t# drop rows with NaN values\n",
        "\tif dropnan:\n",
        "\t\tagg.dropna(inplace=True)\n",
        "\treturn agg"
      ],
      "execution_count": 1,
      "outputs": [
        {
          "output_type": "stream",
          "text": [
            "Using TensorFlow backend.\n"
          ],
          "name": "stderr"
        }
      ]
    },
    {
      "metadata": {
        "id": "A2A9vUdkWmV6",
        "colab_type": "code",
        "colab": {
          "base_uri": "https://localhost:8080/",
          "height": 254
        },
        "outputId": "3f5fbcac-731f-49c1-dd6a-c53cd9a7fece"
      },
      "cell_type": "code",
      "source": [
        "# load dataset\n",
        "dataset = read_csv('pollution.csv', header=0, index_col=0)\n",
        "values = dataset.values\n",
        "# integer encode direction\n",
        "encoder = LabelEncoder()\n",
        "values[:,4] = encoder.fit_transform(values[:,4])\n",
        "# ensure all data is float\n",
        "values = values.astype('float32')\n",
        "# normalize features\n",
        "scaler = MinMaxScaler(feature_range=(0, 1))\n",
        "scaled = scaler.fit_transform(values)\n",
        "# frame as supervised learning\n",
        "reframed = series_to_supervised(scaled, 1, 1)\n",
        "# drop columns we don't want to predict\n",
        "reframed.drop(reframed.columns[[9,10,11,12,13,14,15]], axis=1, inplace=True)\n",
        "print(reframed.head())"
      ],
      "execution_count": 2,
      "outputs": [
        {
          "output_type": "stream",
          "text": [
            "   var1(t-1)  var2(t-1)  var3(t-1)  var4(t-1)  var5(t-1)  var6(t-1)  \\\n",
            "1   0.129779   0.352941   0.245902   0.527273   0.666667   0.002290   \n",
            "2   0.148893   0.367647   0.245902   0.527273   0.666667   0.003811   \n",
            "3   0.159960   0.426471   0.229508   0.545454   0.666667   0.005332   \n",
            "4   0.182093   0.485294   0.229508   0.563637   0.666667   0.008391   \n",
            "5   0.138833   0.485294   0.229508   0.563637   0.666667   0.009912   \n",
            "\n",
            "   var7(t-1)  var8(t-1)   var1(t)  \n",
            "1   0.000000        0.0  0.148893  \n",
            "2   0.000000        0.0  0.159960  \n",
            "3   0.000000        0.0  0.182093  \n",
            "4   0.037037        0.0  0.138833  \n",
            "5   0.074074        0.0  0.109658  \n"
          ],
          "name": "stdout"
        }
      ]
    },
    {
      "metadata": {
        "id": "XUtvaLLdWq-j",
        "colab_type": "code",
        "colab": {
          "base_uri": "https://localhost:8080/",
          "height": 35
        },
        "outputId": "4e03eb8c-59eb-4cbe-c19c-b96fa0174060"
      },
      "cell_type": "code",
      "source": [
        "# split into train and test sets\n",
        "values = reframed.values\n",
        "n_train_hours = 365 * 24\n",
        "train = values[:n_train_hours, :]\n",
        "test = values[n_train_hours:, :]\n",
        "# split into input and outputs\n",
        "train_X, train_y = train[:, :-1], train[:, -1]\n",
        "test_X, test_y = test[:, :-1], test[:, -1]\n",
        "# reshape input to be 3D [samples, timesteps, features]\n",
        "train_X = train_X.reshape((train_X.shape[0], 1, train_X.shape[1]))\n",
        "test_X = test_X.reshape((test_X.shape[0], 1, test_X.shape[1]))\n",
        "print(train_X.shape, train_y.shape, test_X.shape, test_y.shape)"
      ],
      "execution_count": 3,
      "outputs": [
        {
          "output_type": "stream",
          "text": [
            "(8760, 1, 8) (8760,) (35039, 1, 8) (35039,)\n"
          ],
          "name": "stdout"
        }
      ]
    },
    {
      "metadata": {
        "id": "EfLp4JJ0WuE2",
        "colab_type": "code",
        "colab": {
          "base_uri": "https://localhost:8080/",
          "height": 92
        },
        "outputId": "5554fabe-7c91-41c6-d498-a310f713b69a"
      },
      "cell_type": "code",
      "source": [
        "# design network\n",
        "model = Sequential()\n",
        "model.add(LSTM(50, input_shape=(train_X.shape[1], train_X.shape[2])))\n",
        "model.add(Dense(1))\n",
        "model.compile(loss='mae', optimizer='adam')"
      ],
      "execution_count": 4,
      "outputs": [
        {
          "output_type": "stream",
          "text": [
            "WARNING:tensorflow:From /usr/local/lib/python3.6/dist-packages/tensorflow/python/framework/op_def_library.py:263: colocate_with (from tensorflow.python.framework.ops) is deprecated and will be removed in a future version.\n",
            "Instructions for updating:\n",
            "Colocations handled automatically by placer.\n"
          ],
          "name": "stdout"
        }
      ]
    },
    {
      "metadata": {
        "id": "_vbbbcr-Wwer",
        "colab_type": "code",
        "colab": {
          "base_uri": "https://localhost:8080/",
          "height": 1928
        },
        "outputId": "8a8aa612-d2c8-4b8a-9376-ced1efe1ac52"
      },
      "cell_type": "code",
      "source": [
        "# fit network\n",
        "history = model.fit(train_X, train_y, epochs=50, batch_size=72, validation_data=(test_X, test_y), verbose=2, shuffle=False)"
      ],
      "execution_count": 5,
      "outputs": [
        {
          "output_type": "stream",
          "text": [
            "WARNING:tensorflow:From /usr/local/lib/python3.6/dist-packages/tensorflow/python/ops/math_ops.py:3066: to_int32 (from tensorflow.python.ops.math_ops) is deprecated and will be removed in a future version.\n",
            "Instructions for updating:\n",
            "Use tf.cast instead.\n",
            "Train on 8760 samples, validate on 35039 samples\n",
            "Epoch 1/50\n",
            " - 1s - loss: 0.0620 - val_loss: 0.0532\n",
            "Epoch 2/50\n",
            " - 1s - loss: 0.0422 - val_loss: 0.0593\n",
            "Epoch 3/50\n",
            " - 1s - loss: 0.0256 - val_loss: 0.0513\n",
            "Epoch 4/50\n",
            " - 1s - loss: 0.0177 - val_loss: 0.0432\n",
            "Epoch 5/50\n",
            " - 1s - loss: 0.0160 - val_loss: 0.0302\n",
            "Epoch 6/50\n",
            " - 1s - loss: 0.0152 - val_loss: 0.0218\n",
            "Epoch 7/50\n",
            " - 1s - loss: 0.0149 - val_loss: 0.0183\n",
            "Epoch 8/50\n",
            " - 1s - loss: 0.0148 - val_loss: 0.0177\n",
            "Epoch 9/50\n",
            " - 1s - loss: 0.0148 - val_loss: 0.0168\n",
            "Epoch 10/50\n",
            " - 1s - loss: 0.0146 - val_loss: 0.0157\n",
            "Epoch 11/50\n",
            " - 1s - loss: 0.0147 - val_loss: 0.0155\n",
            "Epoch 12/50\n",
            " - 1s - loss: 0.0146 - val_loss: 0.0148\n",
            "Epoch 13/50\n",
            " - 1s - loss: 0.0146 - val_loss: 0.0146\n",
            "Epoch 14/50\n",
            " - 1s - loss: 0.0146 - val_loss: 0.0144\n",
            "Epoch 15/50\n",
            " - 1s - loss: 0.0145 - val_loss: 0.0143\n",
            "Epoch 16/50\n",
            " - 1s - loss: 0.0146 - val_loss: 0.0140\n",
            "Epoch 17/50\n",
            " - 1s - loss: 0.0145 - val_loss: 0.0139\n",
            "Epoch 18/50\n",
            " - 1s - loss: 0.0146 - val_loss: 0.0138\n",
            "Epoch 19/50\n",
            " - 1s - loss: 0.0145 - val_loss: 0.0140\n",
            "Epoch 20/50\n",
            " - 1s - loss: 0.0146 - val_loss: 0.0138\n",
            "Epoch 21/50\n",
            " - 1s - loss: 0.0146 - val_loss: 0.0138\n",
            "Epoch 22/50\n",
            " - 1s - loss: 0.0146 - val_loss: 0.0138\n",
            "Epoch 23/50\n",
            " - 1s - loss: 0.0146 - val_loss: 0.0140\n",
            "Epoch 24/50\n",
            " - 1s - loss: 0.0146 - val_loss: 0.0136\n",
            "Epoch 25/50\n",
            " - 1s - loss: 0.0144 - val_loss: 0.0138\n",
            "Epoch 26/50\n",
            " - 1s - loss: 0.0145 - val_loss: 0.0137\n",
            "Epoch 27/50\n",
            " - 1s - loss: 0.0146 - val_loss: 0.0141\n",
            "Epoch 28/50\n",
            " - 1s - loss: 0.0147 - val_loss: 0.0138\n",
            "Epoch 29/50\n",
            " - 1s - loss: 0.0146 - val_loss: 0.0137\n",
            "Epoch 30/50\n",
            " - 1s - loss: 0.0145 - val_loss: 0.0137\n",
            "Epoch 31/50\n",
            " - 1s - loss: 0.0144 - val_loss: 0.0137\n",
            "Epoch 32/50\n",
            " - 1s - loss: 0.0144 - val_loss: 0.0136\n",
            "Epoch 33/50\n",
            " - 1s - loss: 0.0145 - val_loss: 0.0136\n",
            "Epoch 34/50\n",
            " - 1s - loss: 0.0144 - val_loss: 0.0137\n",
            "Epoch 35/50\n",
            " - 1s - loss: 0.0145 - val_loss: 0.0136\n",
            "Epoch 36/50\n",
            " - 1s - loss: 0.0144 - val_loss: 0.0136\n",
            "Epoch 37/50\n",
            " - 1s - loss: 0.0144 - val_loss: 0.0135\n",
            "Epoch 38/50\n",
            " - 1s - loss: 0.0144 - val_loss: 0.0135\n",
            "Epoch 39/50\n",
            " - 1s - loss: 0.0146 - val_loss: 0.0136\n",
            "Epoch 40/50\n",
            " - 1s - loss: 0.0144 - val_loss: 0.0136\n",
            "Epoch 41/50\n",
            " - 1s - loss: 0.0145 - val_loss: 0.0135\n",
            "Epoch 42/50\n",
            " - 1s - loss: 0.0145 - val_loss: 0.0136\n",
            "Epoch 43/50\n",
            " - 1s - loss: 0.0144 - val_loss: 0.0135\n",
            "Epoch 44/50\n",
            " - 1s - loss: 0.0144 - val_loss: 0.0135\n",
            "Epoch 45/50\n",
            " - 1s - loss: 0.0144 - val_loss: 0.0135\n",
            "Epoch 46/50\n",
            " - 1s - loss: 0.0144 - val_loss: 0.0137\n",
            "Epoch 47/50\n",
            " - 1s - loss: 0.0146 - val_loss: 0.0136\n",
            "Epoch 48/50\n",
            " - 1s - loss: 0.0144 - val_loss: 0.0136\n",
            "Epoch 49/50\n",
            " - 1s - loss: 0.0143 - val_loss: 0.0136\n",
            "Epoch 50/50\n",
            " - 1s - loss: 0.0144 - val_loss: 0.0135\n"
          ],
          "name": "stdout"
        }
      ]
    },
    {
      "metadata": {
        "id": "4iHKXi02WzGs",
        "colab_type": "code",
        "colab": {
          "base_uri": "https://localhost:8080/",
          "height": 269
        },
        "outputId": "9b1b2965-dd68-431b-b0e3-f270f55d54e1"
      },
      "cell_type": "code",
      "source": [
        "# plot history\n",
        "pyplot.plot(history.history['loss'], label='train')\n",
        "pyplot.plot(history.history['val_loss'], label='test')\n",
        "pyplot.legend()\n",
        "pyplot.show()"
      ],
      "execution_count": 6,
      "outputs": [
        {
          "output_type": "display_data",
          "data": {
            "image/png": "[encoded data removed]",
            "text/plain": [
              "<Figure size 432x288 with 1 Axes>"
            ]
          },
          "metadata": {
            "tags": []
          }
        }
      ]
    },
    {
      "metadata": {
        "id": "oFAojwrBW9fn",
        "colab_type": "code",
        "colab": {}
      },
      "cell_type": "code",
      "source": [
        "\n",
        "# make a prediction\n",
        "yhat = model.predict(test_X)\n",
        "test_X = test_X.reshape((test_X.shape[0], test_X.shape[2]))"
      ],
      "execution_count": 0,
      "outputs": []
    },
    {
      "metadata": {
        "id": "mKuBjWBsXAj6",
        "colab_type": "code",
        "colab": {}
      },
      "cell_type": "code",
      "source": [
        "# invert scaling for forecast\n",
        "inv_yhat = concatenate((yhat, test_X[:, 1:]), axis=1)\n",
        "inv_yhat = scaler.inverse_transform(inv_yhat)\n",
        "inv_yhat = inv_yhat[:,0]"
      ],
      "execution_count": 0,
      "outputs": []
    },
    {
      "metadata": {
        "id": "1vGPo-7NXCns",
        "colab_type": "code",
        "colab": {}
      },
      "cell_type": "code",
      "source": [
        "# invert scaling for actual\n",
        "test_y = test_y.reshape((len(test_y), 1))\n",
        "inv_y = concatenate((test_y, test_X[:, 1:]), axis=1)\n",
        "inv_y = scaler.inverse_transform(inv_y)\n",
        "inv_y = inv_y[:,0]"
      ],
      "execution_count": 0,
      "outputs": []
    },
    {
      "metadata": {
        "id": "MotEwUTPXE2R",
        "colab_type": "code",
        "colab": {
          "base_uri": "https://localhost:8080/",
          "height": 35
        },
        "outputId": "fed06c82-4c16-4c39-cc02-13223bf3d133"
      },
      "cell_type": "code",
      "source": [
        "# calculate RMSE\n",
        "rmse = sqrt(mean_squared_error(inv_y, inv_yhat))\n",
        "print('Test RMSE: %.3f' % rmse)"
      ],
      "execution_count": 10,
      "outputs": [
        {
          "output_type": "stream",
          "text": [
            "Test RMSE: 26.531\n"
          ],
          "name": "stdout"
        }
      ]
    }
  ]
}